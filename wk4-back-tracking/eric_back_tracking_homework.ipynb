{
 "cells": [
  {
   "cell_type": "markdown",
   "metadata": {},
   "source": [
    "### Leetcode 90: Subsets II"
   ]
  },
  {
   "cell_type": "code",
   "execution_count": null,
   "metadata": {},
   "outputs": [],
   "source": [
    "class Solution(object):\n",
    "    def subsetsWithDup(self, nums):\n",
    "        if not nums:\n",
    "            return [[]]\n",
    "        nums.sort()\n",
    "        self.curList = []\n",
    "        self.resList = []\n",
    "        self.start = 0\n",
    "        self.backtracing(nums)\n",
    "        return self.resList\n",
    "    def backtracing(self, nums):\n",
    "        tmpList = list(self.curList)\n",
    "        self.resList.append(tmpList)\n",
    "        for i in range(self.start, len(nums)):\n",
    "            if nums[i] == nums[i-1] and self.start != i:\n",
    "                continue\n",
    "            self.curList.append(nums[i])\n",
    "            self.start = i + 1\n",
    "            self.backtracing(nums)\n",
    "            self.curList.pop()"
   ]
  },
  {
   "cell_type": "markdown",
   "metadata": {},
   "source": [
    "### *Leetcode 52: N-Queens II"
   ]
  },
  {
   "cell_type": "code",
   "execution_count": null,
   "metadata": {},
   "outputs": [],
   "source": [
    "class Solution:\n",
    "    def totalNQueens(self, n: int) -> int:\n",
    "        def backtrack(i):\n",
    "            if i == n:\n",
    "                return 1\n",
    "            res = 0\n",
    "            for j in range(n):\n",
    "                if j not in cols and i-j not in diag and i+j not in off_diag:\n",
    "                    cols.add(j)\n",
    "                    diag.add(i-j)\n",
    "                    off_diag.add(i+j)\n",
    "                    res += backtrack(i+1)\n",
    "                    off_diag.remove(i+j)\n",
    "                    diag.remove(i-j)\n",
    "                    cols.remove(j)\n",
    "            return res\n",
    "       \n",
    "        cols = set()\n",
    "        diag = set()\n",
    "        off_diag = set()\n",
    "        return backtrack(0)"
   ]
  },
  {
   "cell_type": "markdown",
   "metadata": {},
   "source": [
    "### Leetcode 216: Combination Sum III"
   ]
  },
  {
   "cell_type": "code",
   "execution_count": null,
   "metadata": {},
   "outputs": [],
   "source": [
    "class Solution:\n",
    "    def combinationSum3(self, k, n):\n",
    "        \"\"\"\n",
    "        :type k: int\n",
    "        :type n: int\n",
    "        :rtype: List[List[int]]\n",
    "        \"\"\"\n",
    "        self.curList = []\n",
    "        self.resList = []\n",
    "        self.start = 0\n",
    "        self.k = k\n",
    "        self.n = n\n",
    "        nums = [i+1 for i in range(9)]\n",
    "        self.helper(nums)\n",
    "        return self.resList\n",
    "    \n",
    "    def helper(self, nums):\n",
    "        if sum(self.curList) == self.n and len(self.curList) == self.k:\n",
    "            tmpList = list(self.curList)\n",
    "            self.resList.append(tmpList)\n",
    "        for i in range(self.start, len(nums)):\n",
    "            self.curList.append(nums[i])\n",
    "            self.start = i + 1\n",
    "            self.helper(nums)\n",
    "            self.curList.pop()"
   ]
  },
  {
   "cell_type": "markdown",
   "metadata": {},
   "source": [
    "### Leetcode 37: Sudoku Solver"
   ]
  },
  {
   "cell_type": "code",
   "execution_count": null,
   "metadata": {},
   "outputs": [],
   "source": [
    "class Solution:\n",
    "    def solveSudoku(self, board):\n",
    "        \"\"\"\n",
    "        :type board: List[List[str]]\n",
    "        :rtype: void Do not return anything, modify board in-place instead.\n",
    "        \"\"\"\n",
    "        self._solveSudoku(board)\n",
    "        \n",
    "    def _solveSudoku(self, board):\n",
    "        x, y = -1, -1\n",
    "        for row in range(0, 9):\n",
    "            for line in range(0, 9):\n",
    "                if board[row][line] == '.':\n",
    "                    x,y=row,line\n",
    "                    break\n",
    "            if x != -1:\n",
    "                break\n",
    "        if x == -1:\n",
    "            return True\n",
    "        tmp = [str(i) for i in range(1,10)]\n",
    "        for line in range(0, 9):\n",
    "            if board[x][line] in tmp:\n",
    "                tmp.remove(board[x][line])\n",
    "        for row in range(0, 9):\n",
    "            if board[row][y] in tmp:\n",
    "                tmp.remove(board[row][y])\n",
    "        for row in range(x//3*3, x//3*3 +3):\n",
    "            for line in range(y//3*3, y//3*3 +3):\n",
    "                if board[row][line] in tmp:\n",
    "                    tmp.remove(board[row][line])\n",
    "        for i in tmp:\n",
    "            board[x][y] = i\n",
    "            if self._solveSudoku(board):\n",
    "                return True\n",
    "            board[x][y] = '.'\n",
    "        return False"
   ]
  },
  {
   "cell_type": "markdown",
   "metadata": {},
   "source": [
    "### Leetcode 47: Permutations II"
   ]
  },
  {
   "cell_type": "code",
   "execution_count": null,
   "metadata": {},
   "outputs": [],
   "source": [
    "class Solution:\n",
    "    def permuteUnique(self, nums):\n",
    "        if not nums:\n",
    "            return [[]]\n",
    "        nums.sort()\n",
    "        self.curList = []\n",
    "        self.resList = []\n",
    "        self.used = [False for i in nums]\n",
    "        self.help(nums)\n",
    "        return self.resList\n",
    "    def help(self, nums):\n",
    "        if len(nums) == len(self.curList):\n",
    "            self.tmpList = list(self.curList)\n",
    "            self.resList.append(self.tmpList)\n",
    "        for i in range(len(nums)):\n",
    "            if i!= 0 and nums[i] == nums[i-1] and self.used[i-1] == False:\n",
    "                continue\n",
    "            if not self.used[i]:\n",
    "                self.curList.append(nums[i])\n",
    "                self.used[i] = True\n",
    "                self.help(nums)\n",
    "                self.curList.pop()\n",
    "                self.used[i] = False"
   ]
  },
  {
   "cell_type": "markdown",
   "metadata": {},
   "source": [
    "### Leetcode 131: Palindrome Partitioning"
   ]
  },
  {
   "cell_type": "code",
   "execution_count": null,
   "metadata": {},
   "outputs": [],
   "source": [
    "class Solution(object):\n",
    "    def partition(self, s):\n",
    "        res  = []\n",
    "        self.dfs(0,s,[],res)\n",
    "        return res\n",
    "    def dfs(self,i,s,partition,res):\n",
    "        if i == len(s):\n",
    "            res.append(partition)\n",
    "            \n",
    "        for j in range(i,len(s)):\n",
    "            if s[i:j+1] == s[i:j+1][::-1]:\n",
    "                self.dfs(j+1,s,partition + [s[i:j+1]],res)"
   ]
  }
 ],
 "metadata": {
  "kernelspec": {
   "display_name": "Python 3",
   "language": "python",
   "name": "python3"
  },
  "language_info": {
   "codemirror_mode": {
    "name": "ipython",
    "version": 3
   },
   "file_extension": ".py",
   "mimetype": "text/x-python",
   "name": "python",
   "nbconvert_exporter": "python",
   "pygments_lexer": "ipython3",
   "version": "3.6.8"
  }
 },
 "nbformat": 4,
 "nbformat_minor": 2
}
