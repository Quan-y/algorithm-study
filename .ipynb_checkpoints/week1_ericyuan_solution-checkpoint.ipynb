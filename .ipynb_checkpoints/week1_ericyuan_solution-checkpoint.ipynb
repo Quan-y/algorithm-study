{
 "cells": [
  {
   "cell_type": "markdown",
   "metadata": {},
   "source": [
    "### 81. Search in Rotated Sorted Array II"
   ]
  },
  {
   "cell_type": "code",
   "execution_count": 1,
   "metadata": {},
   "outputs": [],
   "source": [
    "class Solution:\n",
    "    def search(self, nums, target):\n",
    "        if nums == []:\n",
    "            return False\n",
    "        start = 0\n",
    "        end = len(nums) - 1\n",
    "        while start + 1 < end:\n",
    "            mid = start + (end - start)//2\n",
    "            if nums[mid] == target:\n",
    "                return True\n",
    "            # move\n",
    "            if nums[mid] == nums[start]:\n",
    "                start += 1\n",
    "                continue\n",
    "            if nums[mid] == nums[end]:\n",
    "                end -= 1\n",
    "                continue\n",
    "            # direction left\n",
    "            if nums[mid] > nums[start]:\n",
    "                if target >= nums[start] and target < nums[mid]:\n",
    "                    end = mid\n",
    "                else:\n",
    "                    start = mid\n",
    "            # direction right\n",
    "            if nums[mid] < nums[end]:\n",
    "                if target <= nums[end] and target > nums[mid]:\n",
    "                    start = mid\n",
    "                else:\n",
    "                    end = mid\n",
    "        if nums[start] == target:\n",
    "            return True\n",
    "        if nums[end] == target:\n",
    "            return True\n",
    "        return False"
   ]
  },
  {
   "cell_type": "markdown",
   "metadata": {},
   "source": [
    "### 278. First Bad Version"
   ]
  },
  {
   "cell_type": "code",
   "execution_count": 2,
   "metadata": {},
   "outputs": [],
   "source": [
    "# The isBadVersion API is already defined for you.\n",
    "# @param version, an integer\n",
    "# @return a bool\n",
    "# def isBadVersion(version):\n",
    "\n",
    "class Solution(object):\n",
    "    def firstBadVersion(self, n):\n",
    "        \"\"\"\n",
    "        :type n: int\n",
    "        :rtype: int\n",
    "        \"\"\"\n",
    "        if n == 0:\n",
    "            return -1\n",
    "        start = 0\n",
    "        end = n\n",
    "        while start + 1 < end:\n",
    "            mid = start + (end - start)//2\n",
    "            if isBadVersion(mid) == True:\n",
    "                end = mid\n",
    "            else:\n",
    "                start = mid\n",
    "        if isBadVersion(start) == True:\n",
    "            return start\n",
    "        if isBadVersion(end) == True:\n",
    "            return end\n",
    "        return -1"
   ]
  },
  {
   "cell_type": "markdown",
   "metadata": {},
   "source": [
    "### 744. Find Smallest Letter Greater Than Target"
   ]
  },
  {
   "cell_type": "code",
   "execution_count": 3,
   "metadata": {},
   "outputs": [],
   "source": [
    "class Solution(object):\n",
    "    def nextGreatestLetter(self, letters, target):\n",
    "        \"\"\"\n",
    "        :type letters: List[str]\n",
    "        :type target: str\n",
    "        :rtype: str\n",
    "        \"\"\"\n",
    "        if letters == []:\n",
    "            return -1\n",
    "        start = 0\n",
    "        end = len(letters) - 1\n",
    "        while start + 1 < end:\n",
    "            mid = start + (end - start)//2\n",
    "            if letters[mid] == letters[start]:\n",
    "                start += 1\n",
    "                continue\n",
    "            if letters[mid] == letters[end]:\n",
    "                end -= 1\n",
    "                continue\n",
    "            if letters[mid] > target:\n",
    "                end = mid\n",
    "            if letters[mid] <= target:\n",
    "                start = mid\n",
    "            print(letters[start:end], start, end)\n",
    "        if letters[start] > target:\n",
    "            return letters[start]\n",
    "        if letters[end] > target:\n",
    "            return letters[end]\n",
    "        return letters[0]"
   ]
  },
  {
   "cell_type": "markdown",
   "metadata": {},
   "source": [
    "### 153. Find Minimum in Rotated Sorted Array"
   ]
  },
  {
   "cell_type": "code",
   "execution_count": 4,
   "metadata": {},
   "outputs": [],
   "source": [
    "class Solution(object):\n",
    "    def findMin(self, nums):\n",
    "        \"\"\"\n",
    "        :type nums: List[int]\n",
    "        :rtype: int\n",
    "        \"\"\"\n",
    "        if nums == []:\n",
    "            return -1\n",
    "        start = 0\n",
    "        end = len(nums) - 1\n",
    "        while start + 1 < end:\n",
    "            mid = start + (end - start)//2\n",
    "            if nums[mid] > nums[start]:\n",
    "                if nums[mid] > nums[end]:\n",
    "                    start = mid\n",
    "                else:\n",
    "                    end = mid\n",
    "            if nums[mid] < nums[end]:\n",
    "                if nums[mid] < nums[start]:\n",
    "                    end = mid\n",
    "                else:\n",
    "                    start = mid\n",
    "        if nums[start] < nums[end]:\n",
    "            return nums[start]\n",
    "        else:\n",
    "            return nums[end]"
   ]
  },
  {
   "cell_type": "code",
   "execution_count": 5,
   "metadata": {},
   "outputs": [],
   "source": [
    "class Solution:\n",
    "    def findMin(self, nums):\n",
    "        if len(nums) == 1:\n",
    "            return nums[0]\n",
    "        start = 0\n",
    "        end = len(nums) - 1\n",
    "        while start + 1 < end:\n",
    "            mid = start + (end - start)//2\n",
    "            # right is disorder\n",
    "            if nums[end] < nums[mid]:\n",
    "                start = mid\n",
    "            else:\n",
    "                end = mid\n",
    "        if nums[start] > nums[end]:\n",
    "            return nums[end]\n",
    "        else:\n",
    "            return nums[start]"
   ]
  },
  {
   "cell_type": "markdown",
   "metadata": {},
   "source": [
    "### 378. Kth Smallest Element in a Sorted Matrix"
   ]
  },
  {
   "cell_type": "code",
   "execution_count": 20,
   "metadata": {},
   "outputs": [],
   "source": [
    "class Solution:\n",
    "    def kthSmallest(self, matrix, k):\n",
    "        left = matrix[0][0]\n",
    "        right = matrix[-1][-1]\n",
    "        while left < right:\n",
    "            count = 0\n",
    "            mid = (left + right)//2\n",
    "            for i in range(len(matrix)):\n",
    "                count += bisect.bisect_right(matrix[i], mid)\n",
    "            if count >= k:\n",
    "                right = mid\n",
    "            else:\n",
    "                left = mid + 1\n",
    "        return left"
   ]
  },
  {
   "cell_type": "markdown",
   "metadata": {},
   "source": [
    "### 410. Split Array Largest Sum"
   ]
  },
  {
   "cell_type": "code",
   "execution_count": 21,
   "metadata": {},
   "outputs": [],
   "source": [
    "class Solution(object):\n",
    "    def splitArray(self, nums, m):\n",
    "        \"\"\"\n",
    "        :type nums: List[int]\n",
    "        :type m: int\n",
    "        :rtype: int\n",
    "        \"\"\"\n",
    "        dp = [[float('inf') for j in range(m+1)] for i in range(len(nums)+1)]\n",
    "        dp[0][0] = 0\n",
    "        sub = [0] * (len(nums) + 1)\n",
    "        for i in range(len(nums)):\n",
    "            sub[i+1] = sub[i] + nums[i]\n",
    "        for i in range(1, len(nums)+1):\n",
    "            for j in range(1, m+1):\n",
    "                for k in range(i):\n",
    "                    dp[i][j] = min(dp[i][j], max(dp[k][j-1], sub[i]-sub[k]))\n",
    "        return dp[len(nums)][m]"
   ]
  }
 ],
 "metadata": {
  "kernelspec": {
   "display_name": "Python 3",
   "language": "python",
   "name": "python3"
  },
  "language_info": {
   "codemirror_mode": {
    "name": "ipython",
    "version": 3
   },
   "file_extension": ".py",
   "mimetype": "text/x-python",
   "name": "python",
   "nbconvert_exporter": "python",
   "pygments_lexer": "ipython3",
   "version": "3.6.8"
  }
 },
 "nbformat": 4,
 "nbformat_minor": 2
}
