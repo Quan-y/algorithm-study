{
 "cells": [
  {
   "cell_type": "markdown",
   "metadata": {},
   "source": [
    "### Leetcode 207: Course Schedule"
   ]
  },
  {
   "cell_type": "code",
   "execution_count": 1,
   "metadata": {},
   "outputs": [],
   "source": [
    "class Solution:\n",
    "    def canFinish(self, c, p):\n",
    "        g = [[] for _ in range(c)]\n",
    "        v = [0 for _ in range(c)]\n",
    "        for s, e in p:\n",
    "            g[s] += [e]\n",
    "        for r, nb in enumerate(g):\n",
    "            if not self.dfs(g, r, v):\n",
    "                return False\n",
    "        return True\n",
    "\n",
    "\n",
    "    def dfs(self,g, r, v):\n",
    "        if v[r] == -1:\n",
    "            return False\n",
    "        v[r] = -1\n",
    "        for n in g[r]:\n",
    "            if not self.dfs(g, n, v):\n",
    "                return False\n",
    "        v[r] = 2 # reached nirvana\n",
    "        return True"
   ]
  },
  {
   "cell_type": "markdown",
   "metadata": {},
   "source": [
    "### Leetcode 210. Course Schedule II"
   ]
  },
  {
   "cell_type": "code",
   "execution_count": 2,
   "metadata": {},
   "outputs": [],
   "source": [
    "class Solution(object):\n",
    "    def findOrder(self, numCourses, prerequisites):\n",
    "        \"\"\"\n",
    "        :type numCourses: int\n",
    "        :type prerequisites: List[List[int]]\n",
    "        :rtype: List[int]\n",
    "        \"\"\"\n",
    "        src, dst = [set() for _ in range(n)], [set() for _ in range(n)]\n",
    "        for d, s in prerequisites:\n",
    "            src[d].add(s), dst[s].add(d)\n",
    "        ans = [x for x in range(n) if not src[x]]\n",
    "        for s in ans:\n",
    "            for d in dst[s]:\n",
    "                src[d].remove(s)\n",
    "            if not src[d]: ans.append(d)\n",
    "        return ans if len(ans) == n else []"
   ]
  },
  {
   "cell_type": "markdown",
   "metadata": {},
   "source": [
    "### Leetcode 802. Find Eventual Safe States"
   ]
  },
  {
   "cell_type": "code",
   "execution_count": 3,
   "metadata": {},
   "outputs": [],
   "source": [
    "class Solution(object):\n",
    "    def eventualSafeNodes(self, graph):\n",
    "        N = len(graph)\n",
    "        safe = [False] * N\n",
    "\n",
    "        graph = map(set, graph)\n",
    "        rgraph = [set() for _ in xrange(N)]\n",
    "        q = collections.deque()\n",
    "\n",
    "        for i, js in enumerate(graph):\n",
    "            if not js:\n",
    "                q.append(i)\n",
    "            for j in js:\n",
    "                rgraph[j].add(i)\n",
    "\n",
    "        while q:\n",
    "            j = q.popleft()\n",
    "            safe[j] = True\n",
    "            for i in rgraph[j]:\n",
    "                graph[i].remove(j)\n",
    "                if len(graph[i]) == 0:\n",
    "                    q.append(i)\n",
    "\n",
    "        return [i for i, v in enumerate(safe) if v]"
   ]
  },
  {
   "cell_type": "markdown",
   "metadata": {},
   "source": [
    "### Leetcode 329: Longest Increasing Path in a Matrix"
   ]
  },
  {
   "cell_type": "code",
   "execution_count": 4,
   "metadata": {},
   "outputs": [],
   "source": [
    "class Solution(object):\n",
    "    def longestIncreasingPath(self, matrix):\n",
    "        if not matrix: return 0\n",
    "        count = [[0] * len(matrix[0]) for _ in range(len(matrix))]\n",
    "        def is_valid(new_i, new_j, i, j):\n",
    "            return new_i >= 0 and new_j >= 0 and new_i < len(matrix) \\\n",
    "                and new_j < len(matrix[0]) \\\n",
    "                and matrix[new_i][new_j] > matrix[i][j]\n",
    "        def traverse(i, j):\n",
    "            if not count[i][j]:\n",
    "                count[i][j] = 1 + max(\n",
    "                    traverse(new_i, new_j) if is_valid(new_i, new_j, i, j) else 0 \n",
    "                    for new_i, new_j in [(i, j+1), (i+1, j), (i,j-1),(i-1,j)]\n",
    "                )\n",
    "            return count[i][j]\n",
    "        return max(traverse(i, j) for i in range(len(matrix)) for j in range(len(matrix[0])))"
   ]
  }
 ],
 "metadata": {
  "kernelspec": {
   "display_name": "Python 3",
   "language": "python",
   "name": "python3"
  },
  "language_info": {
   "codemirror_mode": {
    "name": "ipython",
    "version": 3
   },
   "file_extension": ".py",
   "mimetype": "text/x-python",
   "name": "python",
   "nbconvert_exporter": "python",
   "pygments_lexer": "ipython3",
   "version": "3.6.7"
  }
 },
 "nbformat": 4,
 "nbformat_minor": 2
}
