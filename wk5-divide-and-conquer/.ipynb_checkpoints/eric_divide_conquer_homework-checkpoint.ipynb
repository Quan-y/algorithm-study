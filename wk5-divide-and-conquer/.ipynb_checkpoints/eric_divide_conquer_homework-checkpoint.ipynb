{
 "cells": [
  {
   "cell_type": "markdown",
   "metadata": {},
   "source": [
    "### LEETCODE 23: Merge K Sorted Arrays"
   ]
  },
  {
   "cell_type": "code",
   "execution_count": null,
   "metadata": {},
   "outputs": [],
   "source": [
    "class Solution(object):\n",
    "    def mergeKLists(self, lists):\n",
    "        \"\"\"\n",
    "        :type lists: List[ListNode]\n",
    "        :rtype: ListNode\n",
    "        \"\"\"\n",
    "        self.nodes = []\n",
    "        head = point = ListNode(0)\n",
    "        for l in lists:\n",
    "            while l:\n",
    "                self.nodes.append(l.val)\n",
    "                l = l.next\n",
    "        for x in sorted(self.nodes):\n",
    "            point.next = ListNode(x)\n",
    "            point = point.next\n",
    "        return head.next"
   ]
  },
  {
   "cell_type": "markdown",
   "metadata": {},
   "source": [
    "### LEETCODE 43: Multiply Strings"
   ]
  },
  {
   "cell_type": "code",
   "execution_count": null,
   "metadata": {},
   "outputs": [],
   "source": [
    "class Solution(object):\n",
    "    def multiply(self, num1, num2):\n",
    "        \"\"\"\n",
    "        :type num1: str\n",
    "        :type num2: str\n",
    "        :rtype: str\n",
    "        \"\"\"\n",
    "        if num1 == 0 or num2 == 0:\n",
    "            return \"0\"\n",
    "        length1 = len(num1)\n",
    "        length2 = len(num2)\n",
    "\n",
    "        tmp = [0 for i in range(length1 + length2)]\n",
    "        result = \"\"\n",
    "\n",
    "        for i in range(length1):\n",
    "            d1 = int(num1[length1-1-i])\n",
    "            for j in range(length2):\n",
    "                d2 = int(num2[length2-1-j])\n",
    "                tmp[length1 + length2 - 1 - i - j] += d1 * d2\n",
    "\n",
    "        carry = 0\n",
    "        for i in range(length1+length2):\n",
    "            cur = tmp[length1+length2-1-i] + carry\n",
    "            digit = cur % 10\n",
    "            carry = cur / 10\n",
    "            result = str(digit) + result\n",
    "\n",
    "        if carry != 0:\n",
    "            result = str(carry) + result\n",
    "        while result[0] == \"0\":\n",
    "            if result == \"0\":\n",
    "                break\n",
    "            result = result[1:]\n",
    "        return result"
   ]
  },
  {
   "cell_type": "markdown",
   "metadata": {},
   "source": [
    "### LEETCODE 4: Median of Two Sorted Arrays"
   ]
  },
  {
   "cell_type": "code",
   "execution_count": null,
   "metadata": {},
   "outputs": [],
   "source": [
    "class Solution(object):\n",
    "    def mergeTwoLists(self, l1, l2):\n",
    "        \"\"\"\n",
    "        :type l1: ListNode\n",
    "        :type l2: ListNode\n",
    "        :rtype: ListNode\n",
    "        \"\"\"\n",
    "        if not l1:\n",
    "            return l2\n",
    "        if not l2:\n",
    "            return l1\n",
    "\n",
    "        dummy = ListNode(0)\n",
    "        head = dummy\n",
    "        while l1 and l2:\n",
    "            if l1.val < l2.val:\n",
    "                head.next = l1\n",
    "                head = head.next\n",
    "                l1 = l1.next\n",
    "            else:\n",
    "                head.next = l2\n",
    "                head = head.next\n",
    "                l2 = l2.next\n",
    "        if l1:\n",
    "            head.next = l1\n",
    "\n",
    "        if l2:\n",
    "            head.next = l2\n",
    "\n",
    "        return dummy.next"
   ]
  },
  {
   "cell_type": "markdown",
   "metadata": {},
   "source": [
    "### LEETCODE 215: Kth Largest Element in an Array"
   ]
  },
  {
   "cell_type": "code",
   "execution_count": null,
   "metadata": {},
   "outputs": [],
   "source": [
    "class Solution(object):\n",
    "    def findKthLargest(self, nums, k):\n",
    "        \"\"\"\n",
    "        :type nums: List[int]\n",
    "        :type k: int\n",
    "        :rtype: int\n",
    "        \"\"\"\n",
    "        length = len(nums)\n",
    "        if length == 0:\n",
    "            return\n",
    "        pivot = nums[0]\n",
    "        left = 0 \n",
    "        right = length - 1\n",
    "        p = 0\n",
    "        while p <= right:\n",
    "            if nums[p] > pivot:\n",
    "                self.swap(nums, left, p) \n",
    "                p += 1\n",
    "                left += 1\n",
    "            elif nums[p] == pivot:\n",
    "                p += 1\n",
    "            else:\n",
    "                self.swap(nums, right, p)\n",
    "                right -= 1\n",
    "\n",
    "        if left + 1 == k:\n",
    "            return pivot\n",
    "        elif left + 1< k:\n",
    "            return self.findKthLargest(nums[left+1:], k - left - 1)\n",
    "        else:\n",
    "            return self.findKthLargest(nums[:left+1], k)\n",
    "\n",
    "    def swap(self, nums, p1, p2):\n",
    "        tmp = nums[p2]\n",
    "        nums[p2] = nums[p1]\n",
    "        nums[p1] = tmp"
   ]
  },
  {
   "cell_type": "markdown",
   "metadata": {},
   "source": [
    "### LEETCODE 240: Search a 2D Matrix II"
   ]
  },
  {
   "cell_type": "code",
   "execution_count": 1,
   "metadata": {},
   "outputs": [],
   "source": [
    "class Solution(object):\n",
    "    def searchMatrix(self, matrix, target):\n",
    "        \"\"\"\n",
    "        :type matrix: List[List[int]]\n",
    "        :type target: int\n",
    "        :rtype: bool\n",
    "        \"\"\"\n",
    "        tot_rows = len(matrix)\n",
    "        if not tot_rows:\n",
    "            return False\n",
    "        \n",
    "        tot_cols = len(matrix[0])\n",
    "        i,j = 0, tot_cols-1\n",
    "        while tot_cols:\n",
    "            if matrix[i][j] == target:\n",
    "                return True\n",
    "            \n",
    "            if target > matrix[i][j]:\n",
    "                i += 1\n",
    "\n",
    "            if i > tot_rows-1:\n",
    "                return False\n",
    "            \n",
    "            if target < matrix[i][j]:\n",
    "                j -= 1\n",
    "            \n",
    "            if j < 0:\n",
    "                return False\n",
    "        \n",
    "        return False"
   ]
  },
  {
   "cell_type": "markdown",
   "metadata": {},
   "source": [
    "### LEETCODE 932: Beautiful Array"
   ]
  },
  {
   "cell_type": "code",
   "execution_count": null,
   "metadata": {},
   "outputs": [],
   "source": [
    "class Solution:\n",
    "    def beautifulArray(self, N):\n",
    "        a = list(range(1, N + 1))\n",
    "        return self.fun(a)\n",
    "        pass\n",
    "\n",
    "    def fun(self, a):\n",
    "        if len(a) <= 1:\n",
    "            return a\n",
    "        odd = [v for idx, v in enumerate(a) if idx % 2 == 1]\n",
    "        even = [v for idx, v, in enumerate(a) if idx % 2 == 0]\n",
    "        odd = self.r_fun(odd)\n",
    "        even = self.r_fun(even)\n",
    "        return odd + even"
   ]
  }
 ],
 "metadata": {
  "kernelspec": {
   "display_name": "Python 3",
   "language": "python",
   "name": "python3"
  },
  "language_info": {
   "codemirror_mode": {
    "name": "ipython",
    "version": 3
   },
   "file_extension": ".py",
   "mimetype": "text/x-python",
   "name": "python",
   "nbconvert_exporter": "python",
   "pygments_lexer": "ipython3",
   "version": "3.6.8"
  }
 },
 "nbformat": 4,
 "nbformat_minor": 2
}
