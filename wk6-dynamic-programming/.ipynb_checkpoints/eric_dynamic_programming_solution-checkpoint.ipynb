{
 "cells": [
  {
   "cell_type": "markdown",
   "metadata": {},
   "source": [
    "### Leetcode 85: Maximal Rectangles (hard)"
   ]
  },
  {
   "cell_type": "code",
   "execution_count": 1,
   "metadata": {},
   "outputs": [],
   "source": [
    "class Solution(object):\n",
    "    def maximalRectangle(self, matrix):\n",
    "        \"\"\"\n",
    "        :type matrix: List[List[str]]\n",
    "        :rtype: int\n",
    "        \"\"\"\n",
    "        if not matrix or len(matrix) == 0:\n",
    "            return 0\n",
    "        m, n = len(matrix), len(matrix[0])\n",
    "        ans = 0\n",
    "        \n",
    "        left, right, height = [0] * n, [n] * n, [0] * n\n",
    "        for i in range(m):\n",
    "            curl = 0\n",
    "            for j in range(n):\n",
    "                if matrix[i][j] == '1':\n",
    "                    left[j] = max(curl, left[j])\n",
    "                else:\n",
    "                    left[j] = 0\n",
    "                    curl = j + 1\n",
    "            curr = n\n",
    "            for j in range(n-1, -1, -1):\n",
    "                if matrix[i][j] == '1':\n",
    "                    right[j] = min(curr, right[j])\n",
    "                else:\n",
    "                    right[j] = n\n",
    "                    curr = j\n",
    "            for j in range(n):\n",
    "                if matrix[i][j] == '1':\n",
    "                    height[j] += 1\n",
    "                else:\n",
    "                    height[j] = 0\n",
    "                ans = max(height[j] * (right[j] - left[j]), ans)\n",
    "        return ans"
   ]
  },
  {
   "cell_type": "markdown",
   "metadata": {},
   "source": [
    "### Leetcode 188: Best Time to Buy and Sell Stock IV"
   ]
  },
  {
   "cell_type": "code",
   "execution_count": 2,
   "metadata": {},
   "outputs": [],
   "source": [
    "class Solution(object):\n",
    "    def maxProfit(self, k, prices):\n",
    "        \"\"\"\n",
    "        :type k: int\n",
    "        :type prices: List[int]\n",
    "        :rtype: int\n",
    "        \"\"\"\n",
    "        if not prices or not k:\n",
    "            return 0\n",
    "        n=len(prices)\n",
    "        if k>=n/2:\n",
    "            s=0\n",
    "            for i in xrange(1,n):\n",
    "                if prices[i]>prices[i-1]:\n",
    "                    s+=prices[i]-prices[i-1]\n",
    "            return s  \n",
    "        dp=[[0]*(k+1) for _ in xrange(n)]\n",
    "        local=[[0]*(k+1) for _ in xrange(n)]\n",
    "        for i in xrange(1,n):\n",
    "            temp=prices[i]-prices[i-1]\n",
    "            for j in xrange(1,k+1):\n",
    "                local[i][j]=max(local[i-1][j],dp[i-1][j-1])+temp\n",
    "                dp[i][j]=max(dp[i-1][j],local[i][j])\n",
    "        return dp[n-1][k]"
   ]
  },
  {
   "cell_type": "markdown",
   "metadata": {},
   "source": [
    "### Leetcode 139: Word Break"
   ]
  },
  {
   "cell_type": "code",
   "execution_count": null,
   "metadata": {},
   "outputs": [],
   "source": [
    "class Solution(object):\n",
    "    def wordBreak(self, s, wordDict):\n",
    "        \"\"\"\n",
    "        :type s: str\n",
    "        :type wordDict: List[str]\n",
    "        :rtype: bool\n",
    "        \"\"\"\n",
    "        t = [True] + [False] * len(s)\n",
    "        for i in range(1, len(s)+1):\n",
    "            for word in wordDict:\n",
    "                if word == s[i-len(word):i] and t[i-len(word)]:\n",
    "                    t[i] = True\n",
    "                    break\n",
    "        return t[-1]"
   ]
  },
  {
   "cell_type": "markdown",
   "metadata": {},
   "source": [
    "### Leetcode 152: Maximum Product Subarray"
   ]
  },
  {
   "cell_type": "code",
   "execution_count": 3,
   "metadata": {},
   "outputs": [],
   "source": [
    "class Solution(object):\n",
    "    def maxProduct(self, nums):\n",
    "        \"\"\"\n",
    "        :type nums: List[int]\n",
    "        :rtype: int\n",
    "        \"\"\"\n",
    "        max_product = [0] * len(nums)\n",
    "        min_product = [0] * len(nums)\n",
    "        max_product[0] = nums[0]\n",
    "        min_product[0] = nums[0]\n",
    "        for i in range(1, len(nums)):\n",
    "            num = nums[i]\n",
    "            max_product[i] = max(\n",
    "                num, num * min_product[i - 1], num * max_product[i - 1])\n",
    "            min_product[i] = min(\n",
    "                num, num * min_product[i - 1], num * max_product[i - 1])\n",
    "        return max(max_product)"
   ]
  },
  {
   "cell_type": "markdown",
   "metadata": {},
   "source": [
    "### Leetcode 213. House Robber II"
   ]
  },
  {
   "cell_type": "code",
   "execution_count": 4,
   "metadata": {},
   "outputs": [],
   "source": [
    "class Solution(object):\n",
    "    def rob(self, nums):\n",
    "        \"\"\"\n",
    "        :type nums: List[int]\n",
    "        :rtype: int\n",
    "        \"\"\"\n",
    "        if len(nums) <= 1:\n",
    "            return sum(nums)\n",
    "        if len(nums) == 2:\n",
    "            return max(nums)\n",
    "        \n",
    "        nums1 = nums[1:]\n",
    "        nums2 = nums[:-1]\n",
    "        \n",
    "        dp = [0]*len(nums1)\n",
    "        dp[0] = nums1[0]\n",
    "        dp[1] = max(nums1[0], nums1[1])\n",
    "        for i in range(2, len(nums1)):\n",
    "            dp[i] = max(dp[i-1], nums1[i] + dp[i-2])\n",
    "        \n",
    "        maxdp1 = max(dp)\n",
    "        \n",
    "        dp = [0]*len(nums2)\n",
    "        dp[0] = nums2[0]\n",
    "        dp[1] = max(nums2[0], nums2[1])\n",
    "        for i in range(2, len(nums2)):\n",
    "            dp[i] = max(dp[i-1], nums2[i] + dp[i-2])\n",
    "        \n",
    "        return max(maxdp1, max(dp))"
   ]
  },
  {
   "cell_type": "markdown",
   "metadata": {},
   "source": [
    "### Leetcode 639. Decode Ways II"
   ]
  },
  {
   "cell_type": "code",
   "execution_count": 5,
   "metadata": {},
   "outputs": [],
   "source": [
    "class Solution(object):\n",
    "    def __init__(self):\n",
    "        self.encoding = {}\n",
    "        self.encoding.update({ str(i): 1 for i in range(1, 27)})\n",
    "        self.encoding.update({ '*' + str(i): 2 if i <= 6 else 1 for i in range(10) })\n",
    "        self.encoding.update({ '*': 9, '1*': 9, '2*': 6, '**': 15})\n",
    "\n",
    "    def numDecodings(self, string):\n",
    "        size = len(string)\n",
    "        memo = [0] * (size + 1)\n",
    "        memo[0] = 1\n",
    "\n",
    "        for i in range(1, size + 1):\n",
    "            case1, case2 = string[i - 1:i], string[i - 2:i]\n",
    "\n",
    "            if case1 in self.encoding:\n",
    "                memo[i] += memo[i - 1] * self.encoding[case1]\n",
    "\n",
    "            if i >= 2 and case2 in self.encoding:\n",
    "                memo[i] += memo[i - 2] * self.encoding[case2]\n",
    "                \n",
    "            memo[i] = memo[i] % 1000000007\n",
    "\n",
    "        return memo[size]"
   ]
  }
 ],
 "metadata": {
  "kernelspec": {
   "display_name": "Python 3",
   "language": "python",
   "name": "python3"
  },
  "language_info": {
   "codemirror_mode": {
    "name": "ipython",
    "version": 3
   },
   "file_extension": ".py",
   "mimetype": "text/x-python",
   "name": "python",
   "nbconvert_exporter": "python",
   "pygments_lexer": "ipython3",
   "version": "3.6.7"
  }
 },
 "nbformat": 4,
 "nbformat_minor": 2
}
