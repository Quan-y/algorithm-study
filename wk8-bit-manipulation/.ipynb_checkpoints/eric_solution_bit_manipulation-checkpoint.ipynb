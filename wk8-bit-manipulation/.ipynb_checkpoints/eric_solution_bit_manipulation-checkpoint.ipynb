{
 "cells": [
  {
   "cell_type": "markdown",
   "metadata": {},
   "source": [
    "### Leetcode 268. Missing Number"
   ]
  },
  {
   "cell_type": "code",
   "execution_count": 1,
   "metadata": {},
   "outputs": [],
   "source": [
    "class Solution:\n",
    "    def missingNumber(self, nums):\n",
    "        missing = len(nums)\n",
    "        for i, num in enumerate(nums):\n",
    "            missing ^= i ^ num\n",
    "        return missing"
   ]
  },
  {
   "cell_type": "markdown",
   "metadata": {},
   "source": [
    "### Leetcode 187. Repeated DNA Sequences"
   ]
  },
  {
   "cell_type": "code",
   "execution_count": 2,
   "metadata": {},
   "outputs": [],
   "source": [
    "class Solution(object):\n",
    "    def findRepeatedDnaSequences(self, s):\n",
    "            \"\"\"\n",
    "            :type s: str\n",
    "            :rtype: List[str]\n",
    "            \"\"\"\n",
    "            res, seen = [], set()\n",
    "            for i in range(len(s)-9):\n",
    "                sequence = s[i:i+10]\n",
    "                if sequence in res: continue\n",
    "                if sequence in seen:\n",
    "                    res.append(sequence)\n",
    "                else:\n",
    "                    seen.add(sequence)\n",
    "            return res"
   ]
  },
  {
   "cell_type": "markdown",
   "metadata": {},
   "source": [
    "### Leetcode 260. Single Number III"
   ]
  },
  {
   "cell_type": "code",
   "execution_count": 3,
   "metadata": {},
   "outputs": [],
   "source": [
    "class Solution:\n",
    "    def singleNumber(self, nums):\n",
    "        if not nums: return []\n",
    "        temp = 0           \n",
    "        for num in nums:\n",
    "            temp ^= num\n",
    "        idx = 0             \n",
    "        while temp & 1 ==0:\n",
    "            temp = temp>>1\n",
    "            idx += 1\n",
    "        a = b = 0\n",
    "        for num in nums:\n",
    "            if self.isBit(num,idx):\n",
    "                a ^=num\n",
    "            else:\n",
    "                b ^=num\n",
    "        return [a,b]\n",
    "\n",
    "    def isBit(self,num,idx):\n",
    "        num = num>>idx\n",
    "        return num & 1"
   ]
  }
 ],
 "metadata": {
  "kernelspec": {
   "display_name": "Python 3",
   "language": "python",
   "name": "python3"
  },
  "language_info": {
   "codemirror_mode": {
    "name": "ipython",
    "version": 3
   },
   "file_extension": ".py",
   "mimetype": "text/x-python",
   "name": "python",
   "nbconvert_exporter": "python",
   "pygments_lexer": "ipython3",
   "version": "3.6.7"
  }
 },
 "nbformat": 4,
 "nbformat_minor": 2
}
