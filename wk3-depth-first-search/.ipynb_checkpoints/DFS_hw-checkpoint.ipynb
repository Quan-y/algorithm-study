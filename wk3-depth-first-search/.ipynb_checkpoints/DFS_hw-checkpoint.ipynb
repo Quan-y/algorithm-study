{
 "cells": [
  {
   "cell_type": "markdown",
   "metadata": {},
   "source": [
    "### 1. Symmetric Tree (101)"
   ]
  },
  {
   "cell_type": "code",
   "execution_count": 1,
   "metadata": {},
   "outputs": [],
   "source": [
    "# Definition for a binary tree node.\n",
    "# class TreeNode(object):\n",
    "#     def __init__(self, x):\n",
    "#         self.val = x\n",
    "#         self.left = None\n",
    "#         self.right = None\n",
    "\n",
    "class Solution(object):\n",
    "    def isSymmetric(self, root):\n",
    "        \"\"\"\n",
    "        :type root: TreeNode\n",
    "        :rtype: bool\n",
    "        \"\"\"\n",
    "        if root is None:\n",
    "            return True\n",
    "        return self.divideConquer(root.left, root.right)\n",
    "    def divideConquer(self, left, right):\n",
    "        if left is None and right is None:\n",
    "            return True\n",
    "        elif left != None and right != None and left.val == right.val:\n",
    "            return self.divideConquer(left.left, right.right) and self.divideConquer(left.right, right.left)\n",
    "        else:\n",
    "            return False"
   ]
  },
  {
   "cell_type": "markdown",
   "metadata": {},
   "source": [
    "### 2. Construct Binary Tree from Preorder and Inorder Traversal (105)"
   ]
  },
  {
   "cell_type": "code",
   "execution_count": null,
   "metadata": {},
   "outputs": [],
   "source": [
    "# Definition for a binary tree node.\n",
    "# class TreeNode(object):\n",
    "#     def __init__(self, x):\n",
    "#         self.val = x\n",
    "#         self.left = None\n",
    "#         self.right = None\n",
    "\n",
    "class Solution(object):\n",
    "    def buildTree(self, preorder, inorder):\n",
    "        \"\"\"\n",
    "        :type preorder: List[int]\n",
    "        :type inorder: List[int]\n",
    "        :rtype: TreeNode\n",
    "        \"\"\"\n",
    "        if not preorder or not inorder:\n",
    "            return \n",
    "        root = TreeNode(preorder[0])\n",
    "        indexIn = inorder.index(root.val)\n",
    "        root.left = self.buildTree(preorder[1:indexIn+1], inorder[:indexIn])\n",
    "        root.right = self.buildTree(preorder[indexIn+1:], inorder[indexIn+1:])\n",
    "        return root"
   ]
  },
  {
   "cell_type": "markdown",
   "metadata": {},
   "source": [
    "### 3. Path Sum II (113)"
   ]
  },
  {
   "cell_type": "code",
   "execution_count": 2,
   "metadata": {},
   "outputs": [],
   "source": [
    "# Definition for a binary tree node.\n",
    "# class TreeNode(object):\n",
    "#     def __init__(self, x):\n",
    "#         self.val = x\n",
    "#         self.left = None\n",
    "#         self.right = None\n",
    "class Solution(object):\n",
    "    def pathSum(self, root, sum):\n",
    "        \"\"\"\n",
    "        :type root: TreeNode\n",
    "        :type sum: int\n",
    "        :rtype: List[List[int]]\n",
    "        \"\"\"\n",
    "        if not root:\n",
    "            return []\n",
    "        stack = []\n",
    "        result = []\n",
    "        stack.append((root, root.val, [root.val]))\n",
    "        while stack:\n",
    "            node, cursum, curpath = stack.pop()\n",
    "            if not node.left and not node.right and cursum == sum:\n",
    "                result.append(curpath)\n",
    "            if node.left:\n",
    "                stack.append((node.left, cursum + node.left.val, curpath + [node.left.val]))\n",
    "            if node.right:\n",
    "                stack.append((node.right, cursum + node.right.val, curpath + [node.right.val]))\n",
    "        return result"
   ]
  },
  {
   "cell_type": "markdown",
   "metadata": {},
   "source": [
    "### 4. Course Schedule (207)"
   ]
  },
  {
   "cell_type": "code",
   "execution_count": null,
   "metadata": {},
   "outputs": [],
   "source": [
    "class Solution(object):\n",
    "    def canFinish(self, numCourses, prerequisites):\n",
    "        graph = {n:[] for n in xrange(numCourses)} #[0]\n",
    "        \n",
    "        for n1, n2 in prerequisites:\n",
    "            graph[n1].append(n2)\n",
    "        \n",
    "        for target_course in xrange(numCourses): #[1]\n",
    "            stack = graph[target_course]\n",
    "            visited = set()\n",
    "            while stack:\n",
    "                course = stack.pop()\n",
    "                visited.add(course)\n",
    "                if course==target_course: return False\n",
    "                for ajc in graph[course]:\n",
    "                    if ajc not in visited:\n",
    "                        stack.append(ajc)\n",
    "        return True"
   ]
  },
  {
   "cell_type": "markdown",
   "metadata": {},
   "source": [
    "### 5. Smallest String Starting From Leaf (988)"
   ]
  },
  {
   "cell_type": "code",
   "execution_count": null,
   "metadata": {},
   "outputs": [],
   "source": [
    "class Solution(object):\n",
    "    def smallestFromLeaf(self, root):\n",
    "        self.ans = \"~\"\n",
    "\n",
    "        def dfs(node, A):\n",
    "            if node:\n",
    "                A.append(chr(node.val + ord('a')))\n",
    "                if not node.left and not node.right:\n",
    "                    self.ans = min(self.ans, \"\".join(reversed(A)))\n",
    "\n",
    "                dfs(node.left, A)\n",
    "                dfs(node.right, A)\n",
    "                A.pop()\n",
    "\n",
    "        dfs(root, [])\n",
    "        return self.ans"
   ]
  },
  {
   "cell_type": "markdown",
   "metadata": {},
   "source": [
    "### 6. Unique Paths III (980)"
   ]
  },
  {
   "cell_type": "code",
   "execution_count": null,
   "metadata": {},
   "outputs": [],
   "source": [
    "class Solution:\n",
    "    def uniquePathsIII(self, grid):\n",
    "        R, C = len(grid), len(grid[0])\n",
    "\n",
    "        def neighbors(r, c):\n",
    "            for nr, nc in ((r-1, c), (r, c-1), (r+1, c), (r, c+1)):\n",
    "                if 0 <= nr < R and 0 <= nc < C and grid[nr][nc] % 2 == 0:\n",
    "                    yield nr, nc\n",
    "\n",
    "        todo = 0\n",
    "        for r, row in enumerate(grid):\n",
    "            for c, val in enumerate(row):\n",
    "                if val != -1: todo += 1\n",
    "                if val == 1: sr, sc = r, c\n",
    "                if val == 2: tr, tc = r, c\n",
    "\n",
    "        self.ans = 0\n",
    "        def dfs(r, c, todo):\n",
    "            todo -= 1\n",
    "            if todo < 0: return\n",
    "            if r == tr and c == tc:\n",
    "                if todo == 0:\n",
    "                    self.ans += 1\n",
    "                return\n",
    "\n",
    "            grid[r][c] = -1\n",
    "            for nr, nc in neighbors(r, c):\n",
    "                dfs(nr, nc, todo)\n",
    "            grid[r][c] = 0\n",
    "\n",
    "        dfs(sr, sc, todo)\n",
    "        return self.ans"
   ]
  }
 ],
 "metadata": {
  "kernelspec": {
   "display_name": "Python 3",
   "language": "python",
   "name": "python3"
  },
  "language_info": {
   "codemirror_mode": {
    "name": "ipython",
    "version": 3
   },
   "file_extension": ".py",
   "mimetype": "text/x-python",
   "name": "python",
   "nbconvert_exporter": "python",
   "pygments_lexer": "ipython3",
   "version": "3.6.8"
  }
 },
 "nbformat": 4,
 "nbformat_minor": 2
}
